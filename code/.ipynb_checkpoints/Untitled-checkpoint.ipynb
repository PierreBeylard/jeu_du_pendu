{
 "cells": [
  {
   "cell_type": "markdown",
   "metadata": {},
   "source": [
    "# Fichier brouillon programmation PENDU"
   ]
  },
  {
   "cell_type": "code",
   "execution_count": null,
   "metadata": {},
   "outputs": [],
   "source": [
    "def lancement(regles):\n",
    "    while regles != \"oui\":\n",
    "        regles=regles.lower()\n",
    "        try:\n",
    "            assert regles == \"oui\" or regles ==\"non\"\n",
    "        except AssertionError:\n",
    "            print(\"vous n'avez pas saisi le bon terme; merci d'entrer oui ou non\")\n",
    "        if regles ==\"non\":\n",
    "            print(\"\")\n",
    "            print(\"L'ordinateur choisit un mot au hasard dans une liste, un mot de huit lettres maximum. Le joueur tente de trouver les lettres composant le mot. À chaque coup, il saisit une lettre. Si la lettre figure dans le mot, l'ordinateur affiche le mot avec les lettres déjà trouvées. Celles qui ne le sont pas encore sont remplacées par des étoiles (*). Le joueur a 8 chances. Au delà, il a perdu\")\n",
    "            break\n",
    "    print(\"C'est parti!!\")\n",
    "\n",
    "def appel_dictionnaire():\n",
    "    import os\n",
    "    import ast\n",
    "    try:\n",
    "        with open('scores', 'r',encoding=\"utf8\") as scores:\n",
    "            base=scores.read()# Load configuration file values\n",
    "    except FileNotFoundError:\n",
    "        with open('scores','w',encoding=\"utf8\") as scores: \n",
    "            scores.write(\"\")\n",
    "    with open('scores','r',encoding=\"utf8\") as scores: \n",
    "        base=scores.read()\n",
    "    if base != \"\":\n",
    "        baseJoueurs=ast.literal_eval(base)\n",
    "    else:\n",
    "        baseJoueurs=base\n",
    "    return baseJoueurs    \n",
    "    \n",
    "def identification(nom,baseJoueurs):\n",
    "    baseJoueurs=dict(baseJoueurs)\n",
    "    while nom not in baseJoueurs:\n",
    "        validation=input(\"Nous ne vous avons pas trouvé, souhaitez vous créer un compte ? oui ou non : \")\n",
    "        if validation.lower() == \"oui\":\n",
    "            baseJoueurs[nom]=0\n",
    "        else: \n",
    "            nom=input(\"merci de re entrer votre nom : \")\n",
    "    print(\"ça marche\")\n",
    "    print(nom,\"tu as actuellement\",baseJoueurs[nom])\n",
    "    return baseJoueurs\n",
    "\n",
    "def ajout_points(baseJoueurs):\n",
    "    baseJoueurs=str(baseJoueurs)\n",
    "    with open('scores','w',encoding=\"utf8\") as scores: \n",
    "            scores.write(baseJoueurs)\n",
    "\n",
    "def motAleatoire(listeMots):\n",
    "    import random\n",
    "    mot=random.choice(listeMots)\n",
    "    return mot"
   ]
  },
  {
   "cell_type": "code",
   "execution_count": null,
   "metadata": {},
   "outputs": [],
   "source": [
    "print(\"Bienvenu au jeu du pendu\")\n",
    "regles=input(\"Connaissez-vous les régles? merci de répondre par oui ou non :\")\n",
    "###affichage des régles \n",
    "lancement(regles)\n",
    "\n",
    "### vérification du nom du joueurs et récupération de ses points \n",
    "nom=input(\"merci de saisir votre nom: \")\n",
    "baseJoueurs=appel_dictionnaire()                \n",
    "baseJoueurs=identification(nom,baseJoueurs)\n",
    "\n",
    "#generation mot aléatoire\n",
    "motAleatoire(listeMots)\n",
    "print(\"il vous reste 8 essais pour trouver le mot\")\n",
    "\n",
    "#saisie de la lettre et jeu \n",
    "\n",
    "\n",
    "#ajouts points à l'alias\n",
    "ajout_points(baseJoueurs)\n",
    "\n",
    "#demander si autre partie \n",
    "\n",
    "\n"
   ]
  },
  {
   "cell_type": "code",
   "execution_count": null,
   "metadata": {},
   "outputs": [],
   "source": [
    "listeMots=[\" blaguant\",\" parlotte\"]\n",
    "type(listeMots)\n",
    "nbreEssais= 8\n",
    "\n"
   ]
  },
  {
   "cell_type": "code",
   "execution_count": null,
   "metadata": {},
   "outputs": [],
   "source": [
    "import random\n",
    "mot=random.choice(listeMots)\n",
    "mot=mot.replace(\" \",\"\")\n",
    "motListe=[]\n",
    "for i in mot:\n",
    "    motListe+= [i]\n",
    "print(motListe)\n",
    "\n",
    "motFloute=[\"*\",\"*\",\"*\",\"*\",\"*\",\"*\",\"*\",\"*\"]\n",
    "print(motFloute)\n",
    "x=1\n",
    "nbreEssais=8\n",
    "while x <= nbreEssais:\n",
    "    lettre=input(\"entrez une lettre \")\n",
    "    for i in motListe:\n",
    "        print(lettre,'est égale à ',i)\n",
    "        if lettre == i:\n",
    "            indice=motListe.index(i)\n",
    "            motFloute[indice]=motListe[indice]\n",
    "    print(motFloute)\n",
    "    nbreEssais-=1\n",
    "    print(\"il vous reste \",nbreEssais,\"tentatives\")               "
   ]
  },
  {
   "cell_type": "code",
   "execution_count": null,
   "metadata": {},
   "outputs": [],
   "source": []
  },
  {
   "cell_type": "code",
   "execution_count": null,
   "metadata": {},
   "outputs": [],
   "source": []
  },
  {
   "cell_type": "code",
   "execution_count": null,
   "metadata": {},
   "outputs": [],
   "source": []
  },
  {
   "cell_type": "code",
   "execution_count": null,
   "metadata": {},
   "outputs": [],
   "source": []
  }
 ],
 "metadata": {
  "kernelspec": {
   "display_name": "Python 3",
   "language": "python",
   "name": "python3"
  },
  "language_info": {
   "codemirror_mode": {
    "name": "ipython",
    "version": 3
   },
   "file_extension": ".py",
   "mimetype": "text/x-python",
   "name": "python",
   "nbconvert_exporter": "python",
   "pygments_lexer": "ipython3",
   "version": "3.7.5"
  }
 },
 "nbformat": 4,
 "nbformat_minor": 2
}
